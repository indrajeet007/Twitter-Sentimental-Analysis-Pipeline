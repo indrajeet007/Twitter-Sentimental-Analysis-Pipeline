{
 "cells": [
  {
   "cell_type": "code",
   "execution_count": 1,
   "metadata": {},
   "outputs": [],
   "source": [
    "# import packages\n",
    "import sys\n",
    "import csv\n",
    "import tweepy\n",
    "import matplotlib.pyplot as plt\n",
    "\n",
    "from collections import Counter\n",
    "from aylienapiclient import textapi"
   ]
  },
  {
   "cell_type": "code",
   "execution_count": 2,
   "metadata": {},
   "outputs": [],
   "source": [
    "# in case running code on python2.7 and lower\n",
    "if sys.version_info[0] < 3:\n",
    "    input = raw_input"
   ]
  },
  {
   "cell_type": "code",
   "execution_count": 3,
   "metadata": {},
   "outputs": [],
   "source": [
    "# Twitter credintials\n",
    "consumer_key = \"sRPC4AzVXZ7dPYG9Jf2SAWcj4\"\n",
    "consumer_secret = \"A2qhpn5REn8broeDRW3CbgQ7aeecJ71wFuukJRmbgVrD9urVT8\"\n",
    "access_token = \"3032895760-IsNnchFNj0DhATTkWrXssLhKiwVlT7FGv90lCwu\"\n",
    "access_token_secret = \"g5pagQ3xl1QisrXxORIoSJltgvseO70yBc1d54uTKjLya\""
   ]
  },
  {
   "cell_type": "code",
   "execution_count": 4,
   "metadata": {},
   "outputs": [],
   "source": [
    "# AYLIEN credintials\n",
    "app_id = \"af0efd19\"\n",
    "app_key = \"0134a3b117b5759d2272e9d574cea60f\""
   ]
  },
  {
   "cell_type": "code",
   "execution_count": 5,
   "metadata": {},
   "outputs": [],
   "source": [
    "# initialise instance of Tweepy\n",
    "auth = tweepy.OAuthHandler(consumer_key, consumer_secret)\n",
    "auth.set_access_token(access_token, access_token_secret)\n",
    "api = tweepy.API(auth)"
   ]
  },
  {
   "cell_type": "code",
   "execution_count": 6,
   "metadata": {},
   "outputs": [],
   "source": [
    "# initialise instance of AYLIEN\n",
    "client = textapi.Client(app_id, app_key)"
   ]
  },
  {
   "cell_type": "code",
   "execution_count": 7,
   "metadata": {},
   "outputs": [
    {
     "name": "stdout",
     "output_type": "stream",
     "text": [
      "Subject name to analyze:\n",
      "Mahatma Gandhi\n"
     ]
    }
   ],
   "source": [
    "# testing part\n",
    "# input a query to test the code\n",
    "query = input(\"Subject name to analyze:\\n\")"
   ]
  },
  {
   "cell_type": "code",
   "execution_count": 8,
   "metadata": {},
   "outputs": [
    {
     "name": "stdout",
     "output_type": "stream",
     "text": [
      "Number of tweets to analyze?\n",
      "50\n"
     ]
    }
   ],
   "source": [
    "# input number of tweets to analyze\n",
    "number = input(\"Number of tweets to analyze?\\n\")"
   ]
  },
  {
   "cell_type": "code",
   "execution_count": 9,
   "metadata": {},
   "outputs": [
    {
     "name": "stdout",
     "output_type": "stream",
     "text": [
      "--- Gathered Tweets \n",
      "\n"
     ]
    }
   ],
   "source": [
    "# build result search config\n",
    "results = api.search(\n",
    "    lang = \"en\",\n",
    "    q = query + \" -rt\",\n",
    "    count = number,\n",
    "    result_type = \"mixed\" # changeable\n",
    ")\n",
    "\n",
    "print(\"--- Gathered Tweets \\n\")"
   ]
  },
  {
   "cell_type": "code",
   "execution_count": 10,
   "metadata": {},
   "outputs": [],
   "source": [
    "# open a csv file to store the scraped tweets and their sentiment output\n",
    "file_name = 'Sentiment_Analysis_of_{}_Tweets_About_{}.csv'.format(number, query)"
   ]
  },
  {
   "cell_type": "code",
   "execution_count": 11,
   "metadata": {},
   "outputs": [
    {
     "name": "stdout",
     "output_type": "stream",
     "text": [
      "--- Opened a CSV file to store the results of your analysis\n",
      "Analyzed Tweet 1\n",
      "Analyzed Tweet 2\n",
      "Analyzed Tweet 3\n",
      "Analyzed Tweet 4\n",
      "Analyzed Tweet 5\n",
      "Analyzed Tweet 6\n",
      "Analyzed Tweet 7\n",
      "Analyzed Tweet 8\n",
      "Analyzed Tweet 9\n",
      "Analyzed Tweet 10\n",
      "Analyzed Tweet 11\n",
      "Analyzed Tweet 12\n",
      "Analyzed Tweet 13\n",
      "Analyzed Tweet 14\n",
      "Analyzed Tweet 15\n",
      "Analyzed Tweet 16\n",
      "Analyzed Tweet 17\n",
      "Analyzed Tweet 18\n",
      "Analyzed Tweet 19\n",
      "Analyzed Tweet 20\n",
      "Analyzed Tweet 21\n",
      "Analyzed Tweet 22\n",
      "Analyzed Tweet 23\n",
      "Analyzed Tweet 24\n",
      "Analyzed Tweet 25\n",
      "Analyzed Tweet 26\n",
      "Analyzed Tweet 27\n",
      "Analyzed Tweet 28\n",
      "Analyzed Tweet 29\n",
      "Analyzed Tweet 30\n",
      "Analyzed Tweet 31\n",
      "Analyzed Tweet 32\n",
      "Analyzed Tweet 33\n",
      "Analyzed Tweet 34\n",
      "Analyzed Tweet 35\n",
      "Analyzed Tweet 36\n",
      "Analyzed Tweet 37\n",
      "Analyzed Tweet 38\n",
      "Analyzed Tweet 39\n",
      "Analyzed Tweet 40\n",
      "Analyzed Tweet 41\n",
      "Analyzed Tweet 42\n",
      "Analyzed Tweet 43\n",
      "Analyzed Tweet 44\n",
      "Analyzed Tweet 45\n",
      "Analyzed Tweet 46\n",
      "Analyzed Tweet 47\n",
      "Analyzed Tweet 48\n",
      "Analyzed Tweet 49\n",
      "Analyzed Tweet 50\n"
     ]
    }
   ],
   "source": [
    "with open(file_name, 'w', newline='') as csvfile:\n",
    "    csv_writer = csv.DictWriter(\n",
    "        f = csvfile,\n",
    "        fieldnames = [\"Tweet\", \"Sentiment\", \"Confidence\"]\n",
    "    )\n",
    "    csv_writer.writeheader()\n",
    "    \n",
    "    print(\"--- Opened a CSV file to store the results of your analysis\")\n",
    "    \n",
    "    # clean tweets and forward to AYLIEN Text API\n",
    "    for c, result in enumerate(results, start=1):\n",
    "        tweet = result.text\n",
    "        tidy_tweet = tweet.strip().encode('ascii', 'ignore')\n",
    "\n",
    "        if len(tweet) == 0:\n",
    "            print(\"Empty Tweet\")\n",
    "            continue\n",
    "\n",
    "        response = client.Sentiment({'text': tidy_tweet})\n",
    "        csv_writer.writerow({\n",
    "            'Tweet': response['text'],\n",
    "            'Sentiment': response['polarity'],\n",
    "            'Confidence': response['polarity_confidence']\n",
    "        })\n",
    "\n",
    "        print(\"Analyzed Tweet {}\".format(c))"
   ]
  },
  {
   "cell_type": "code",
   "execution_count": 12,
   "metadata": {},
   "outputs": [],
   "source": [
    "# count the data in the sentiment column of the CSV file\n",
    "with open(file_name, 'r') as data:\n",
    "    counter = Counter()\n",
    "    \n",
    "    for row in csv.DictReader(data):\n",
    "        counter[row['Sentiment']] += 1\n",
    "        \n",
    "    positive = counter['positive']\n",
    "    negative = counter['negative']\n",
    "    neutral = counter['neutral']"
   ]
  },
  {
   "cell_type": "code",
   "execution_count": 13,
   "metadata": {},
   "outputs": [],
   "source": [
    "# declare variables to display a pie chart of outcome sizes using counter variables\n",
    "colors = ['green', 'red', 'grey']\n",
    "sizes = [positive, negative, neutral]\n",
    "labels = 'Positive', 'Negative', 'Neutral'"
   ]
  },
  {
   "cell_type": "code",
   "execution_count": 14,
   "metadata": {},
   "outputs": [
    {
     "data": {
      "image/png": "[encoded data removed]",
      "text/plain": [
       "<Figure size 432x288 with 1 Axes>"
      ]
     },
     "metadata": {},
     "output_type": "display_data"
    }
   ],
   "source": [
    "# use matplotlib to plot the chart\n",
    "plt.pie(\n",
    "    x = sizes,\n",
    "    shadow = True,\n",
    "    colors = colors,\n",
    "    labels = labels,\n",
    "    startangle = 90\n",
    ")\n",
    "\n",
    "plt.title(\"Sentiment of {} Tweets about {}\".format(number, query))\n",
    "plt.show()"
   ]
  }
 ],
 "metadata": {
  "kernelspec": {
   "display_name": "Python 3",
   "language": "python",
   "name": "python3"
  },
  "language_info": {
   "codemirror_mode": {
    "name": "ipython",
    "version": 3
   },
   "file_extension": ".py",
   "mimetype": "text/x-python",
   "name": "python",
   "nbconvert_exporter": "python",
   "pygments_lexer": "ipython3",
   "version": "3.7.2"
  }
 },
 "nbformat": 4,
 "nbformat_minor": 2
}
